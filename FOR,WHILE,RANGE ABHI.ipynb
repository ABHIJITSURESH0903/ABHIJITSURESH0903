{
  "metadata": {
    "language_info": {
      "codemirror_mode": {
        "name": "python",
        "version": 3
      },
      "file_extension": ".py",
      "mimetype": "text/x-python",
      "name": "python",
      "nbconvert_exporter": "python",
      "pygments_lexer": "ipython3",
      "version": "3.8"
    },
    "kernelspec": {
      "name": "python",
      "display_name": "Python (Pyodide)",
      "language": "python"
    }
  },
  "nbformat_minor": 4,
  "nbformat": 4,
  "cells": [
    {
      "cell_type": "code",
      "source": "for i in range(10):\n     print(i)",
      "metadata": {
        "trusted": true
      },
      "execution_count": 1,
      "outputs": [
        {
          "name": "stdout",
          "text": "0\n1\n2\n3\n4\n5\n6\n7\n8\n9\n",
          "output_type": "stream"
        }
      ]
    },
    {
      "cell_type": "code",
      "source": "food=['IDLI','PAROTTA','BIRIYANI']\ndrink=['SIGNATURE','BACARDI','ROYAL CHALLENGERS']\nfd=food+drink\nprint(fd)",
      "metadata": {
        "trusted": true
      },
      "execution_count": 2,
      "outputs": [
        {
          "name": "stdout",
          "text": "['IDLI', 'PAROTTA', 'BIRIYANI', 'SIGNATURE', 'BACARDI', 'ROYAL CHALLENGERS']\n",
          "output_type": "stream"
        }
      ]
    },
    {
      "cell_type": "code",
      "source": "for i in fd:\n    print(i,len(i))",
      "metadata": {
        "trusted": true
      },
      "execution_count": 3,
      "outputs": [
        {
          "name": "stdout",
          "text": "IDLI 4\nPAROTTA 7\nBIRIYANI 8\nSIGNATURE 9\nBACARDI 7\nROYAL CHALLENGERS 17\n",
          "output_type": "stream"
        }
      ]
    },
    {
      "cell_type": "code",
      "source": "for i in range(len(fd)):\n     print(i*i)",
      "metadata": {
        "trusted": true
      },
      "execution_count": 4,
      "outputs": [
        {
          "name": "stdout",
          "text": "0\n1\n4\n9\n16\n25\n",
          "output_type": "stream"
        }
      ]
    },
    {
      "cell_type": "code",
      "source": "i=0\nwhile i<len(fd):\n    print(fd[i])\n    i=i+1",
      "metadata": {
        "trusted": true
      },
      "execution_count": 5,
      "outputs": [
        {
          "name": "stdout",
          "text": "IDLI\nPAROTTA\nBIRIYANI\nSIGNATURE\nBACARDI\nROYAL CHALLENGERS\n",
          "output_type": "stream"
        }
      ]
    },
    {
      "cell_type": "code",
      "source": "print(fd)",
      "metadata": {
        "trusted": true
      },
      "execution_count": 6,
      "outputs": [
        {
          "name": "stdout",
          "text": "['IDLI', 'PAROTTA', 'BIRIYANI', 'SIGNATURE', 'BACARDI', 'ROYAL CHALLENGERS']\n",
          "output_type": "stream"
        }
      ]
    },
    {
      "cell_type": "code",
      "source": "fd.append(\"DOSA\")\nprint(fd)",
      "metadata": {
        "trusted": true
      },
      "execution_count": 7,
      "outputs": [
        {
          "name": "stdout",
          "text": "['IDLI', 'PAROTTA', 'BIRIYANI', 'SIGNATURE', 'BACARDI', 'ROYAL CHALLENGERS', 'DOSA']\n",
          "output_type": "stream"
        }
      ]
    },
    {
      "cell_type": "code",
      "source": "fd.insert(3,\"CHAPPATHI\")\nprint(fd)",
      "metadata": {
        "trusted": true
      },
      "execution_count": 8,
      "outputs": [
        {
          "name": "stdout",
          "text": "['IDLI', 'PAROTTA', 'BIRIYANI', 'CHAPPATHI', 'SIGNATURE', 'BACARDI', 'ROYAL CHALLENGERS', 'DOSA']\n",
          "output_type": "stream"
        }
      ]
    },
    {
      "cell_type": "code",
      "source": "fd.sort()\nprint(fd)",
      "metadata": {
        "trusted": true
      },
      "execution_count": 9,
      "outputs": [
        {
          "name": "stdout",
          "text": "['BACARDI', 'BIRIYANI', 'CHAPPATHI', 'DOSA', 'IDLI', 'PAROTTA', 'ROYAL CHALLENGERS', 'SIGNATURE']\n",
          "output_type": "stream"
        }
      ]
    },
    {
      "cell_type": "code",
      "source": "fd.reverse()\nprint(fd)",
      "metadata": {
        "trusted": true
      },
      "execution_count": 10,
      "outputs": [
        {
          "name": "stdout",
          "text": "['SIGNATURE', 'ROYAL CHALLENGERS', 'PAROTTA', 'IDLI', 'DOSA', 'CHAPPATHI', 'BIRIYANI', 'BACARDI']\n",
          "output_type": "stream"
        }
      ]
    },
    {
      "cell_type": "code",
      "source": "print(fd)",
      "metadata": {
        "trusted": true
      },
      "execution_count": 11,
      "outputs": [
        {
          "name": "stdout",
          "text": "['SIGNATURE', 'ROYAL CHALLENGERS', 'PAROTTA', 'IDLI', 'DOSA', 'CHAPPATHI', 'BIRIYANI', 'BACARDI']\n",
          "output_type": "stream"
        }
      ]
    },
    {
      "cell_type": "code",
      "source": "fd.remove('IDLI')\nprint(fd)",
      "metadata": {
        "trusted": true
      },
      "execution_count": 12,
      "outputs": [
        {
          "name": "stdout",
          "text": "['SIGNATURE', 'ROYAL CHALLENGERS', 'PAROTTA', 'DOSA', 'CHAPPATHI', 'BIRIYANI', 'BACARDI']\n",
          "output_type": "stream"
        }
      ]
    },
    {
      "cell_type": "code",
      "source": "fd.pop()\nprint(fd)",
      "metadata": {
        "trusted": true
      },
      "execution_count": 13,
      "outputs": [
        {
          "name": "stdout",
          "text": "['SIGNATURE', 'ROYAL CHALLENGERS', 'PAROTTA', 'DOSA', 'CHAPPATHI', 'BIRIYANI']\n",
          "output_type": "stream"
        }
      ]
    },
    {
      "cell_type": "code",
      "source": "fd.pop(1)\nprint(fd)",
      "metadata": {
        "trusted": true
      },
      "execution_count": 14,
      "outputs": [
        {
          "name": "stdout",
          "text": "['SIGNATURE', 'PAROTTA', 'DOSA', 'CHAPPATHI', 'BIRIYANI']\n",
          "output_type": "stream"
        }
      ]
    },
    {
      "cell_type": "code",
      "source": "print(food)\nprint(drink)",
      "metadata": {
        "trusted": true
      },
      "execution_count": 15,
      "outputs": [
        {
          "name": "stdout",
          "text": "['IDLI', 'PAROTTA', 'BIRIYANI']\n['SIGNATURE', 'BACARDI', 'ROYAL CHALLENGERS']\n",
          "output_type": "stream"
        }
      ]
    },
    {
      "cell_type": "code",
      "source": "food.extend(drink)\nprint(food)\nprint(drink)",
      "metadata": {
        "trusted": true
      },
      "execution_count": 16,
      "outputs": [
        {
          "name": "stdout",
          "text": "['IDLI', 'PAROTTA', 'BIRIYANI', 'SIGNATURE', 'BACARDI', 'ROYAL CHALLENGERS']\n['SIGNATURE', 'BACARDI', 'ROYAL CHALLENGERS']\n",
          "output_type": "stream"
        }
      ]
    },
    {
      "cell_type": "code",
      "source": "",
      "metadata": {},
      "execution_count": null,
      "outputs": []
    }
  ]
}