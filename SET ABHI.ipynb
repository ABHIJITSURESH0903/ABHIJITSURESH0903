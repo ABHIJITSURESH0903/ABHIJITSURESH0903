{
  "metadata": {
    "language_info": {
      "codemirror_mode": {
        "name": "python",
        "version": 3
      },
      "file_extension": ".py",
      "mimetype": "text/x-python",
      "name": "python",
      "nbconvert_exporter": "python",
      "pygments_lexer": "ipython3",
      "version": "3.8"
    },
    "kernelspec": {
      "name": "python",
      "display_name": "Python (Pyodide)",
      "language": "python"
    }
  },
  "nbformat_minor": 4,
  "nbformat": 4,
  "cells": [
    {
      "cell_type": "code",
      "source": "s2={\"ABHIJIT\",\"RANJITH\",\"ELAVARASAN\",\"SUDHARSHAN\"}\nprint(s2)",
      "metadata": {
        "trusted": true
      },
      "execution_count": 2,
      "outputs": [
        {
          "name": "stdout",
          "text": "{'ELAVARASAN', 'SUDHARSHAN', 'RANJITH', 'ABHIJIT'}\n",
          "output_type": "stream"
        }
      ]
    },
    {
      "cell_type": "code",
      "source": "s3={\"HARIKRISHNAN\",\"ABHIJIT\",\"JAYASURYA\"}\nprint(s3)",
      "metadata": {
        "trusted": true
      },
      "execution_count": 7,
      "outputs": [
        {
          "name": "stdout",
          "text": "{'HARIKRISHNAN', 'ABHIJIT', 'JAYASURYA'}\n",
          "output_type": "stream"
        }
      ]
    },
    {
      "cell_type": "code",
      "source": "print(s2)\nprint(s3)",
      "metadata": {
        "trusted": true
      },
      "execution_count": 8,
      "outputs": [
        {
          "name": "stdout",
          "text": "{'ELAVARASAN', 'SUDHARSHAN', 'RANJITH', 'ABHIJIT'}\n{'HARIKRISHNAN', 'ABHIJIT', 'JAYASURYA'}\n",
          "output_type": "stream"
        }
      ]
    },
    {
      "cell_type": "code",
      "source": "s1=set()\nprint(s1)",
      "metadata": {
        "trusted": true
      },
      "execution_count": 9,
      "outputs": [
        {
          "name": "stdout",
          "text": "set()\n",
          "output_type": "stream"
        }
      ]
    },
    {
      "cell_type": "code",
      "source": "print(s2.union(s3))\nprint(s2.intersection(s3))\nprint(s2.difference(s3))\nprint(s3.difference(s2))",
      "metadata": {
        "trusted": true
      },
      "execution_count": 10,
      "outputs": [
        {
          "name": "stdout",
          "text": "{'ELAVARASAN', 'RANJITH', 'HARIKRISHNAN', 'ABHIJIT', 'SUDHARSHAN', 'JAYASURYA'}\n{'ABHIJIT'}\n{'ELAVARASAN', 'SUDHARSHAN', 'RANJITH'}\n{'HARIKRISHNAN', 'JAYASURYA'}\n",
          "output_type": "stream"
        }
      ]
    },
    {
      "cell_type": "code",
      "source": "",
      "metadata": {},
      "execution_count": null,
      "outputs": []
    }
  ]
}