{
  "metadata": {
    "language_info": {
      "codemirror_mode": {
        "name": "python",
        "version": 3
      },
      "file_extension": ".py",
      "mimetype": "text/x-python",
      "name": "python",
      "nbconvert_exporter": "python",
      "pygments_lexer": "ipython3",
      "version": "3.8"
    },
    "kernelspec": {
      "name": "python",
      "display_name": "Python (Pyodide)",
      "language": "python"
    }
  },
  "nbformat_minor": 4,
  "nbformat": 4,
  "cells": [
    {
      "cell_type": "code",
      "source": "import numpy as np",
      "metadata": {
        "trusted": true
      },
      "execution_count": 1,
      "outputs": []
    },
    {
      "cell_type": "code",
      "source": "l1=['BMW','BENZ','AUDI',5] \nar1=np.array(l1)\nprint(ar1)\nprint(type(ar1))",
      "metadata": {
        "trusted": true
      },
      "execution_count": 3,
      "outputs": [
        {
          "name": "stdout",
          "text": "['BMW' 'BENZ' 'AUDI' '5']\n<class 'numpy.ndarray'>\n",
          "output_type": "stream"
        }
      ]
    },
    {
      "cell_type": "code",
      "source": "print(ar1.shape)",
      "metadata": {
        "trusted": true
      },
      "execution_count": 4,
      "outputs": [
        {
          "name": "stdout",
          "text": "(4,)\n",
          "output_type": "stream"
        }
      ]
    },
    {
      "cell_type": "code",
      "source": "print(ar1[2])\nprint(ar1[0])",
      "metadata": {
        "trusted": true
      },
      "execution_count": 5,
      "outputs": [
        {
          "name": "stdout",
          "text": "AUDI\nBMW\n",
          "output_type": "stream"
        }
      ]
    },
    {
      "cell_type": "code",
      "source": "print(ar1.reshape(1,4))\nprint(ar1.reshape(4,1))",
      "metadata": {
        "trusted": true
      },
      "execution_count": 6,
      "outputs": [
        {
          "name": "stdout",
          "text": "[['BMW' 'BENZ' 'AUDI' '5']]\n[['BMW']\n ['BENZ']\n ['AUDI']\n ['5']]\n",
          "output_type": "stream"
        }
      ]
    },
    {
      "cell_type": "code",
      "source": "ar2=ar1.reshape(1,4)\nar3=ar1.reshape(4,1)\nprint(ar2.shape)\nprint(ar3.shape)",
      "metadata": {
        "trusted": true
      },
      "execution_count": 7,
      "outputs": [
        {
          "name": "stdout",
          "text": "(1, 4)\n(4, 1)\n",
          "output_type": "stream"
        }
      ]
    },
    {
      "cell_type": "code",
      "source": "l2=['FERARI',2,1]\nl3=[6,'ROLLS ROYCE',4]\nl4=[9,8,'LAMBOGINI']\nar4=np.array([l2,l3,l4])\nprint(type(ar4))\nprint(ar4)\nprint(ar4.shape)",
      "metadata": {
        "trusted": true
      },
      "execution_count": 8,
      "outputs": [
        {
          "name": "stdout",
          "text": "<class 'numpy.ndarray'>\n[['FERARI' '2' '1']\n ['6' 'ROLLS ROYCE' '4']\n ['9' '8' 'LAMBOGINI']]\n(3, 3)\n",
          "output_type": "stream"
        }
      ]
    },
    {
      "cell_type": "code",
      "source": "print(ar4.reshape(1,9))\nprint(ar4.reshape(9,1))",
      "metadata": {
        "trusted": true
      },
      "execution_count": 9,
      "outputs": [
        {
          "name": "stdout",
          "text": "[['FERARI' '2' '1' '6' 'ROLLS ROYCE' '4' '9' '8' 'LAMBOGINI']]\n[['FERARI']\n ['2']\n ['1']\n ['6']\n ['ROLLS ROYCE']\n ['4']\n ['9']\n ['8']\n ['LAMBOGINI']]\n",
          "output_type": "stream"
        }
      ]
    },
    {
      "cell_type": "code",
      "source": "ar2=ar1.reshape(1,4)\nar3=ar1.reshape(4,1)\nprint(ar2.shape)\nprint(ar3.shape)",
      "metadata": {
        "trusted": true
      },
      "execution_count": 10,
      "outputs": [
        {
          "name": "stdout",
          "text": "(1, 4)\n(4, 1)\n",
          "output_type": "stream"
        }
      ]
    },
    {
      "cell_type": "code",
      "source": "l2=[3,2,1]\nl3=[6,5,4]\nl4=[9,8,7]\nar4=np.array([l2,l3,l4])\nprint(type(ar4))\nprint(ar4)\nprint(ar4.shape)",
      "metadata": {
        "trusted": true
      },
      "execution_count": 11,
      "outputs": [
        {
          "name": "stdout",
          "text": "<class 'numpy.ndarray'>\n[[3 2 1]\n [6 5 4]\n [9 8 7]]\n(3, 3)\n",
          "output_type": "stream"
        }
      ]
    },
    {
      "cell_type": "code",
      "source": "print(ar4.reshape(1,9))\nprint(ar4.reshape(9,1))",
      "metadata": {
        "trusted": true
      },
      "execution_count": 12,
      "outputs": [
        {
          "name": "stdout",
          "text": "[[3 2 1 6 5 4 9 8 7]]\n[[3]\n [2]\n [1]\n [6]\n [5]\n [4]\n [9]\n [8]\n [7]]\n",
          "output_type": "stream"
        }
      ]
    },
    {
      "cell_type": "code",
      "source": "print(ar4)",
      "metadata": {
        "trusted": true
      },
      "execution_count": 13,
      "outputs": [
        {
          "name": "stdout",
          "text": "[[3 2 1]\n [6 5 4]\n [9 8 7]]\n",
          "output_type": "stream"
        }
      ]
    },
    {
      "cell_type": "code",
      "source": "l5=[1,2,3,4,5]\nl6=[7,8,9,0,1]\nl7=[1,3,4,5,6]\nl8=[7,7,2,3,4]\nar5=np.array([l5,l6,l7,l8])\nprint(ar5)",
      "metadata": {
        "trusted": true
      },
      "execution_count": 14,
      "outputs": [
        {
          "name": "stdout",
          "text": "[[1 2 3 4 5]\n [7 8 9 0 1]\n [1 3 4 5 6]\n [7 7 2 3 4]]\n",
          "output_type": "stream"
        }
      ]
    },
    {
      "cell_type": "code",
      "source": "print(ar5[:,:])",
      "metadata": {
        "trusted": true
      },
      "execution_count": 15,
      "outputs": [
        {
          "name": "stdout",
          "text": "[[1 2 3 4 5]\n [7 8 9 0 1]\n [1 3 4 5 6]\n [7 7 2 3 4]]\n",
          "output_type": "stream"
        }
      ]
    },
    {
      "cell_type": "code",
      "source": "print(ar5[2:,1:3])",
      "metadata": {
        "trusted": true
      },
      "execution_count": 16,
      "outputs": [
        {
          "name": "stdout",
          "text": "[[3 4]\n [7 2]]\n",
          "output_type": "stream"
        }
      ]
    },
    {
      "cell_type": "code",
      "source": "print(ar5[1:,1:])",
      "metadata": {
        "trusted": true
      },
      "execution_count": 17,
      "outputs": [
        {
          "name": "stdout",
          "text": "[[8 9 0 1]\n [3 4 5 6]\n [7 2 3 4]]\n",
          "output_type": "stream"
        }
      ]
    },
    {
      "cell_type": "code",
      "source": "print(ar5[1:3,:2])",
      "metadata": {
        "trusted": true
      },
      "execution_count": 18,
      "outputs": [
        {
          "name": "stdout",
          "text": "[[7 8]\n [1 3]]\n",
          "output_type": "stream"
        }
      ]
    },
    {
      "cell_type": "code",
      "source": "",
      "metadata": {},
      "execution_count": null,
      "outputs": []
    }
  ]
}